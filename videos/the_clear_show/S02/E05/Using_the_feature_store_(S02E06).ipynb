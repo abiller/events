{
 "cells": [
  {
   "cell_type": "markdown",
   "metadata": {
    "id": "EOkXP4nwP7Rz"
   },
   "source": [
    "# The \"Two lines of code\" for integration"
   ]
  },
  {
   "cell_type": "code",
   "execution_count": null,
   "metadata": {
    "id": "NgtqB-CHvzr6"
   },
   "outputs": [],
   "source": [
    "from clearml import Task\n",
    "\n",
    "task = Task.init(project_name=\"titanic_demo\",\n",
    "                 task_name=\"S02E07: feature_set for automation\")"
   ]
  },
  {
   "cell_type": "markdown",
   "metadata": {
    "id": "P2LKV8QQROwE"
   },
   "source": [
    "# Now to get the local dataset with the updated feature onto the colab instance!"
   ]
  },
  {
   "cell_type": "code",
   "execution_count": null,
   "metadata": {
    "id": "I0WDNODbvr5i"
   },
   "outputs": [],
   "source": [
    "from clearml import Dataset\n",
    "latest_data = Dataset.get(dataset_project=\"titanic_demo/FeatureStore\")\n",
    "local_data = latest_data.get_local_copy()"
   ]
  },
  {
   "cell_type": "markdown",
   "metadata": {
    "id": "K4Fve1TUROIl"
   },
   "source": [
    "# From now, use your own code \n",
    "# as if `local_data` is a folder containing your dataset:"
   ]
  },
  {
   "cell_type": "code",
   "execution_count": null,
   "metadata": {
    "id": "vvMRgYOjSUbp"
   },
   "outputs": [],
   "source": [
    "import pandas as pd\n",
    "train_df = pd.read_csv(f'{local_data}/train.csv')"
   ]
  },
  {
   "cell_type": "markdown",
   "metadata": {
    "id": "y7TTu-kEYUik"
   },
   "source": [
    "### your code here ..."
   ]
  },
  {
   "cell_type": "code",
   "execution_count": null,
   "metadata": {
    "id": "TYgWBvOfYLUQ"
   },
   "outputs": [],
   "source": [
    "def my_train(train_df, **kwargs):\n",
    "    print('...\\n...\\n')\n",
    "    print(\"I am training now, so cool. wait for results!\")\n",
    "    return 0.8\n"
   ]
  },
  {
   "cell_type": "markdown",
   "metadata": {
    "id": "LvcjAdWkYaUH"
   },
   "source": [
    "### Begin work *etc*."
   ]
  },
  {
   "cell_type": "code",
   "execution_count": null,
   "metadata": {
    "id": "5QmYINFUT8rP"
   },
   "outputs": [],
   "source": [
    "fs_artifacts = task.get_task(latest_data.id).artifacts\n",
    "key_cat_to_title = fs_artifacts['key_category_to_title'].get()\n",
    "\n",
    "print(key_cat_to_title)\n"
   ]
  },
  {
   "cell_type": "code",
   "execution_count": null,
   "metadata": {
    "id": "iF7DQdGLdq1S"
   },
   "outputs": [],
   "source": [
    "print(f'Value counts for Title:\\n{train_df[\"Title\"].value_counts()}')\n",
    "task.logger.report_table('train_debug','head',table_plot=train_df.head())\n",
    "task.logger.report_table('train_debug','tail',table_plot=train_df.tail())"
   ]
  },
  {
   "cell_type": "code",
   "execution_count": null,
   "metadata": {
    "id": "BW6exWFGcDXQ"
   },
   "outputs": [],
   "source": [
    "my_train(train_df,fancy_tricks=True)"
   ]
  },
  {
   "cell_type": "code",
   "execution_count": null,
   "metadata": {
    "id": "uwvtxw1XgF1q"
   },
   "outputs": [],
   "source": []
  }
 ],
 "metadata": {
  "colab": {
   "collapsed_sections": [],
   "name": "Using the feature store (S02E06)",
   "private_outputs": true,
   "provenance": []
  },
  "interpreter": {
   "hash": "27508f9b69a4781b270ad2262a1a927b62467314df2db6abfede01f90ea6a5c5"
  },
  "kernelspec": {
   "display_name": "Python 3.8.5 64-bit ('venv_demos': venv)",
   "name": "python3"
  },
  "language_info": {
   "name": "python",
   "version": ""
  }
 },
 "nbformat": 4,
 "nbformat_minor": 0
}