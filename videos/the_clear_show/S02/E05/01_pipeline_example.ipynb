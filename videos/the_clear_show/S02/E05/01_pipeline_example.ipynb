{
 "cells": [
  {
   "cell_type": "code",
   "execution_count": null,
   "metadata": {
    "collapsed": true
   },
   "outputs": [],
   "source": [
    "from clearml import Task, PipelineController\n",
    "from dataclasses import dataclass\n",
    "# force colab to get dataclasses incase you are running worker in colab\n",
    "Task.add_requirements('dataclasses')"
   ]
  },
  {
   "cell_type": "code",
   "execution_count": null,
   "outputs": [],
   "source": [
    "base_project_name = 'titanic_demo'\n",
    "\n",
    "@dataclass\n",
    "class PipeConfig:\n",
    "    featurestore_subproject: str = \"FeatureStore\"\n",
    "    featureset_creation: str = \"feature_set_2\""
   ],
   "metadata": {
    "collapsed": false,
    "pycharm": {
     "name": "#%%\n"
    }
   }
  },
  {
   "cell_type": "code",
   "execution_count": null,
   "outputs": [],
   "source": [
    "task = Task.init(\n",
    "    project_name=base_project_name,\n",
    "    task_name='Pipeline automation',\n",
    "    output_uri=True,  # auto save everything to Clearml Free\n",
    ")\n",
    "\n",
    "pipe_cfg = PipeConfig()\n",
    "task.connect(pipe_cfg, 'pipeline config')"
   ],
   "metadata": {
    "collapsed": false,
    "pycharm": {
     "name": "#%%\n"
    }
   }
  },
  {
   "cell_type": "code",
   "execution_count": null,
   "outputs": [],
   "source": [
    "pipe = PipelineController(default_execution_queue='default')\n",
    "# step 0 - new data in dataset subproject\n",
    "# not included (see video for explanations)\n",
    "# step 1 - create feature set using your own code\n",
    "pipe.add_step(name='feature_set_creation',\n",
    "              base_task_project=f'{base_project_name}/{pipe_cfg.featurestore_subproject}',\n",
    "              base_task_name=f'{pipe_cfg.featureset_creation}'\n",
    "              )\n",
    "# step 2 - use feature set with your own code\n",
    "pipe.add_step(name='use_feature_Set',\n",
    "              base_task_project=f'{base_project_name}',\n",
    "              base_task_name='S02E07: feature_set for automation',\n",
    "              parents=['feature_set_creation', ],\n",
    "              )\n",
    "\n",
    "# Starting the pipeline (in the background)\n",
    "print('starting...')\n",
    "pipe.start()\n",
    "# Wait until pipeline terminates\n",
    "pipe.wait()\n",
    "# cleanup everything\n",
    "pipe.stop()\n",
    "\n",
    "print('done')"
   ],
   "metadata": {
    "collapsed": false,
    "pycharm": {
     "name": "#%%\n"
    }
   }
  }
 ],
 "metadata": {
  "kernelspec": {
   "display_name": "Python 3",
   "language": "python",
   "name": "python3"
  },
  "language_info": {
   "codemirror_mode": {
    "name": "ipython",
    "version": 2
   },
   "file_extension": ".py",
   "mimetype": "text/x-python",
   "name": "python",
   "nbconvert_exporter": "python",
   "pygments_lexer": "ipython2",
   "version": "2.7.6"
  }
 },
 "nbformat": 4,
 "nbformat_minor": 0
}