{
 "cells": [
  {
   "cell_type": "markdown",
   "metadata": {},
   "source": [
    "# DataOps with ClearML Pt.I \n",
    "## (ClearSHOW S02E05)\n",
    "Simple feature engineering with ClearML as a data store. \n"
   ]
  },
  {
   "cell_type": "code",
   "execution_count": 3,
   "metadata": {},
   "outputs": [],
   "source": [
    "# normal imports\n",
    "from typing import Optional\n",
    "import pandas as pd\n",
    "import numpy as np\n"
   ]
  },
  {
   "cell_type": "markdown",
   "metadata": {},
   "source": [
    "## First things first, init a task on the project."
   ]
  },
  {
   "cell_type": "code",
   "execution_count": 6,
   "metadata": {},
   "outputs": [
    {
     "name": "stdout",
     "output_type": "stream",
     "text": [
      "ClearML Task: overwriting (reusing) task id=b10b4ee8936e4034a8d15ebee5bd71c6\n",
      "2021-05-14 23:11:55,463 - clearml.Task - WARNING - Failed auto-detecting task repository: Script file [PosixPath('/home/ariel/work/events/videos/the_clear_show/S02/E04/ipykernel_launcher'), PosixPath('/home/ariel/work/events/videos/the_clear_show/S02/E04/<ipython-input-6-fb631fd70778>')] could not be found\n",
      "ClearML results page: https://app.community.clear.ml/projects/955d83fee7564b88a595180d098d03d4/experiments/b10b4ee8936e4034a8d15ebee5bd71c6/output/log\n",
      "ClearML Monitor: Could not detect iteration reporting, falling back to iterations as seconds-from-start\n"
     ]
    }
   ],
   "source": [
    "from clearml import Task, Dataset\n",
    "\n",
    "task = Task.init(project_name=\"titanic_demo\", task_name=\"demo_dataset_access\")\n"
   ]
  },
  {
   "cell_type": "markdown",
   "metadata": {},
   "source": [
    "#### That's our famous original 2-LOC integration :) \n",
    "## Now let's get the dataset from our datastore\n",
    "refer to S02E04 to see how we downloaded it from kaggle and put it there. AKA clearml-data rul3z!!1"
   ]
  },
  {
   "cell_type": "code",
   "execution_count": 7,
   "metadata": {},
   "outputs": [],
   "source": [
    "tdata = Dataset.get(dataset_project=\"titanic_demo/dataset\", dataset_name=\"titanic\")\n",
    "tdata_folder = tdata.get_local_copy()\n"
   ]
  },
  {
   "cell_type": "markdown",
   "metadata": {},
   "source": [
    "### The dataset has been downloaded to the local machine and can now be loaded.\n",
    "Don't forget to uses pandas to read the csv ;) "
   ]
  },
  {
   "cell_type": "markdown",
   "metadata": {},
   "source": [
    "# Real stuff starts here \n",
    "now we want to make some cleaning and feature engineering as suggested by the top kaggle kernels for this data\n",
    "(links below_)"
   ]
  },
  {
   "cell_type": "code",
   "execution_count": 32,
   "metadata": {},
   "outputs": [],
   "source": [
    "def extract_title(in_name_series: pd.Series) -> pd.Series:\n",
    "    return in_name_series.str.extract(' ([A-Za-z]+)\\.', expand=False)\n",
    "\n",
    "def make_fixed_title_series(\n",
    "    in_title_series: pd.Series, override_rare_list: Optional[list] = None\n",
    ") -> pd.Series:\n",
    "    rare_list = (\n",
    "        [\n",
    "            \"Lady\",\n",
    "            \"Countess\",\n",
    "            \"Capt\",\n",
    "            \"Col\",\n",
    "            \"Don\",\n",
    "            \"Dr\",\n",
    "            \"Major\",\n",
    "            \"Rev\",\n",
    "            \"Sir\",\n",
    "            \"Jonkheer\",\n",
    "            \"Dona\",\n",
    "        ]\n",
    "        if override_rare_list is None\n",
    "        else override_rare_list\n",
    "    )\n",
    "    fixed_title_series = in_title_series.replace(rare_list, \"Rare\")\n",
    "    fixed_title_series = fixed_title_series.replace([\"Mlle\",\"Ms\"], \"Miss\")\n",
    "    fixed_title_series = fixed_title_series.replace(\"Mme\", \"Mrs\")\n",
    "    return fixed_title_series\n",
    "\n",
    "def map_title(title_series: pd.Series, mapping: dict) -> pd.Series:\n",
    "   rev_mapping = {v:k for k,v in mapping.items()} \n",
    "   mapped = title_series.map(rev_mapping)\n",
    "   # shouldn't happen\n",
    "   mapped = mapped.fillna(0)\n",
    "   return mapped"
   ]
  },
  {
   "cell_type": "code",
   "execution_count": 14,
   "metadata": {},
   "outputs": [
    {
     "data": {
      "text/html": "<div>\n<style scoped>\n    .dataframe tbody tr th:only-of-type {\n        vertical-align: middle;\n    }\n\n    .dataframe tbody tr th {\n        vertical-align: top;\n    }\n\n    .dataframe thead th {\n        text-align: right;\n    }\n</style>\n<table border=\"1\" class=\"dataframe\">\n  <thead>\n    <tr style=\"text-align: right;\">\n      <th></th>\n      <th>PassengerId</th>\n      <th>Survived</th>\n      <th>Pclass</th>\n      <th>Name</th>\n      <th>Sex</th>\n      <th>Age</th>\n      <th>SibSp</th>\n      <th>Parch</th>\n      <th>Ticket</th>\n      <th>Fare</th>\n      <th>Cabin</th>\n      <th>Embarked</th>\n    </tr>\n  </thead>\n  <tbody>\n    <tr>\n      <th>0</th>\n      <td>1</td>\n      <td>0</td>\n      <td>3</td>\n      <td>Braund, Mr. Owen Harris</td>\n      <td>male</td>\n      <td>22.0</td>\n      <td>1</td>\n      <td>0</td>\n      <td>A/5 21171</td>\n      <td>7.2500</td>\n      <td>NaN</td>\n      <td>S</td>\n    </tr>\n    <tr>\n      <th>1</th>\n      <td>2</td>\n      <td>1</td>\n      <td>1</td>\n      <td>Cumings, Mrs. John Bradley (Florence Briggs Th...</td>\n      <td>female</td>\n      <td>38.0</td>\n      <td>1</td>\n      <td>0</td>\n      <td>PC 17599</td>\n      <td>71.2833</td>\n      <td>C85</td>\n      <td>C</td>\n    </tr>\n    <tr>\n      <th>2</th>\n      <td>3</td>\n      <td>1</td>\n      <td>3</td>\n      <td>Heikkinen, Miss. Laina</td>\n      <td>female</td>\n      <td>26.0</td>\n      <td>0</td>\n      <td>0</td>\n      <td>STON/O2. 3101282</td>\n      <td>7.9250</td>\n      <td>NaN</td>\n      <td>S</td>\n    </tr>\n    <tr>\n      <th>3</th>\n      <td>4</td>\n      <td>1</td>\n      <td>1</td>\n      <td>Futrelle, Mrs. Jacques Heath (Lily May Peel)</td>\n      <td>female</td>\n      <td>35.0</td>\n      <td>1</td>\n      <td>0</td>\n      <td>113803</td>\n      <td>53.1000</td>\n      <td>C123</td>\n      <td>S</td>\n    </tr>\n    <tr>\n      <th>4</th>\n      <td>5</td>\n      <td>0</td>\n      <td>3</td>\n      <td>Allen, Mr. William Henry</td>\n      <td>male</td>\n      <td>35.0</td>\n      <td>0</td>\n      <td>0</td>\n      <td>373450</td>\n      <td>8.0500</td>\n      <td>NaN</td>\n      <td>S</td>\n    </tr>\n  </tbody>\n</table>\n</div>",
      "text/plain": "   PassengerId  Survived  Pclass  \\\n0            1         0       3   \n1            2         1       1   \n2            3         1       3   \n3            4         1       1   \n4            5         0       3   \n\n                                                Name     Sex   Age  SibSp  \\\n0                            Braund, Mr. Owen Harris    male  22.0      1   \n1  Cumings, Mrs. John Bradley (Florence Briggs Th...  female  38.0      1   \n2                             Heikkinen, Miss. Laina  female  26.0      0   \n3       Futrelle, Mrs. Jacques Heath (Lily May Peel)  female  35.0      1   \n4                           Allen, Mr. William Henry    male  35.0      0   \n\n   Parch            Ticket     Fare Cabin Embarked  \n0      0         A/5 21171   7.2500   NaN        S  \n1      0          PC 17599  71.2833   C85        C  \n2      0  STON/O2. 3101282   7.9250   NaN        S  \n3      0            113803  53.1000  C123        S  \n4      0            373450   8.0500   NaN        S  "
     },
     "execution_count": 14,
     "metadata": {},
     "output_type": "execute_result"
    }
   ],
   "source": [
    "train_df = pd.read_csv(tdata_folder+'/train.csv')\n",
    "train_df.head()"
   ]
  },
  {
   "cell_type": "code",
   "execution_count": 36,
   "metadata": {},
   "outputs": [
    {
     "data": {
      "text/html": "<div>\n<style scoped>\n    .dataframe tbody tr th:only-of-type {\n        vertical-align: middle;\n    }\n\n    .dataframe tbody tr th {\n        vertical-align: top;\n    }\n\n    .dataframe thead th {\n        text-align: right;\n    }\n</style>\n<table border=\"1\" class=\"dataframe\">\n  <thead>\n    <tr style=\"text-align: right;\">\n      <th></th>\n      <th>Title</th>\n      <th>Survived</th>\n    </tr>\n  </thead>\n  <tbody>\n    <tr>\n      <th>0</th>\n      <td>1</td>\n      <td>0.156673</td>\n    </tr>\n    <tr>\n      <th>1</th>\n      <td>2</td>\n      <td>0.702703</td>\n    </tr>\n    <tr>\n      <th>2</th>\n      <td>3</td>\n      <td>0.793651</td>\n    </tr>\n    <tr>\n      <th>3</th>\n      <td>4</td>\n      <td>0.575000</td>\n    </tr>\n    <tr>\n      <th>4</th>\n      <td>5</td>\n      <td>0.347826</td>\n    </tr>\n  </tbody>\n</table>\n</div>",
      "text/plain": "  Title  Survived\n0     1  0.156673\n1     2  0.702703\n2     3  0.793651\n3     4  0.575000\n4     5  0.347826"
     },
     "execution_count": 36,
     "metadata": {},
     "output_type": "execute_result"
    }
   ],
   "source": [
    "num_to_title = {1: \"Mr\", 2: \"Miss\", 3: \"Mrs\", 4: \"Master\", 5: \"Rare\"}\n",
    "# expose the mapping so that it can be viewed and grabbed later on\n",
    "task.upload_artifact(\"key_category_to_title\", num_to_title)\n",
    "\n",
    "\n",
    "def create_categorical_title(\n",
    "    name_series: pd.Series, num_to_title_mapping: dict\n",
    ") -> pd.Series:\n",
    "    title = extract_title(name_series)\n",
    "    fixed_title = make_fixed_title_series(title)\n",
    "    cat_title = map_title(fixed_title, num_to_title_mapping)\n",
    "    return cat_title.astype(\"category\")\n",
    "\n",
    "\n",
    "train_df[\"Title\"] = create_categorical_title(train_df[\"Name\"], num_to_title)\n",
    "# test:\n",
    "train_df[[\"Title\", \"Survived\"]].groupby([\"Title\"], as_index=False).mean()\n"
   ]
  },
  {
   "cell_type": "markdown",
   "metadata": {},
   "source": [
    "# Now let's create a binary diff over the original dataset which contains the new feature\n",
    "# step 1 - create the feature set\n"
   ]
  },
  {
   "cell_type": "code",
   "execution_count": 41,
   "metadata": {},
   "outputs": [],
   "source": [
    "feature_set = Dataset.create('titanic_with_category_title',dataset_project='titanic_example/FeatureStore',parent_datasets=[tdata.id])"
   ]
  },
  {
   "cell_type": "code",
   "execution_count": 43,
   "metadata": {},
   "outputs": [
    {
     "name": "stdout",
     "output_type": "stream",
     "text": [
      "\u001b[0;31mSignature:\u001b[0m\n",
      "\u001b[0mfeature_set\u001b[0m\u001b[0;34m.\u001b[0m\u001b[0mget_mutable_local_copy\u001b[0m\u001b[0;34m(\u001b[0m\u001b[0;34m\u001b[0m\n",
      "\u001b[0;34m\u001b[0m    \u001b[0mtarget_folder\u001b[0m\u001b[0;34m,\u001b[0m\u001b[0;34m\u001b[0m\n",
      "\u001b[0;34m\u001b[0m    \u001b[0moverwrite\u001b[0m\u001b[0;34m=\u001b[0m\u001b[0;32mFalse\u001b[0m\u001b[0;34m,\u001b[0m\u001b[0;34m\u001b[0m\n",
      "\u001b[0;34m\u001b[0m    \u001b[0mraise_on_error\u001b[0m\u001b[0;34m=\u001b[0m\u001b[0;32mTrue\u001b[0m\u001b[0;34m,\u001b[0m\u001b[0;34m\u001b[0m\n",
      "\u001b[0;34m\u001b[0m\u001b[0;34m)\u001b[0m\u001b[0;34m\u001b[0m\u001b[0;34m\u001b[0m\u001b[0m\n",
      "\u001b[0;31mDocstring:\u001b[0m\n",
      "return a base folder with a writable (mutable) local copy of the entire dataset\n",
      "    download and copy / soft-link, files from all the parent dataset versions\n",
      "\n",
      ":param target_folder: Target folder for the writable copy\n",
      ":param overwrite: If True, recursively delete the target folder before creating a copy.\n",
      "    If False (default) and target folder contains files, raise exception or return None\n",
      ":param raise_on_error: If True raise exception if dataset merging failed on any file\n",
      ":return: A the target folder containing the entire dataset\n",
      "\u001b[0;31mFile:\u001b[0m      ~/work/events/venv_demos/lib/python3.8/site-packages/clearml/datasets/dataset.py\n",
      "\u001b[0;31mType:\u001b[0m      method\n"
     ]
    }
   ],
   "source": [
    "new_dataset = feature_set.get_mutable_local_copy()\n"
   ]
  },
  {
   "cell_type": "code",
   "execution_count": null,
   "metadata": {},
   "outputs": [],
   "source": []
  }
 ],
 "metadata": {
  "interpreter": {
   "hash": "27508f9b69a4781b270ad2262a1a927b62467314df2db6abfede01f90ea6a5c5"
  },
  "kernelspec": {
   "display_name": "Python 3.8.5 64-bit",
   "name": "python3"
  },
  "language_info": {
   "name": "python",
   "version": ""
  },
  "orig_nbformat": 2
 },
 "nbformat": 4,
 "nbformat_minor": 2
}