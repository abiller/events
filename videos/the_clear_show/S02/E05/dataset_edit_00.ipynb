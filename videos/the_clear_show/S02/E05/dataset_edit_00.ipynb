{
 "cells": [
  {
   "cell_type": "markdown",
   "metadata": {},
   "source": [
    "# DataOps with ClearML Pt.I \n",
    "## (ClearSHOW S02E05)\n",
    "Simple feature engineering with ClearML as a data store. \n"
   ]
  },
  {
   "cell_type": "code",
   "execution_count": 1,
   "metadata": {},
   "outputs": [],
   "source": [
    "# normal imports\n",
    "from typing import Optional\n",
    "import pandas as pd"
   ]
  },
  {
   "cell_type": "markdown",
   "metadata": {},
   "source": [
    "## First things first, init a task on the project.\n",
    "#### That's our famous original 2-LOC integration, now with subprojects :)"
   ]
  },
  {
   "cell_type": "code",
   "execution_count": 2,
   "metadata": {},
   "outputs": [
    {
     "name": "stdout",
     "output_type": "stream",
     "text": [
      "ClearML Task: created new task id=81884eb4c17948b9a8b435efe708c71d\n",
      "2021-05-16 23:44:38,603 - clearml.Task - WARNING - Failed auto-detecting task repository: Script file [PosixPath('/home/ariel/work/events/videos/the_clear_show/S02/E05/ipykernel_launcher'), PosixPath('/home/ariel/work/events/videos/the_clear_show/S02/E05/<ipython-input-2-a90e6c71fbde>')] could not be found\n",
      "ClearML results page: https://app.community.clear.ml/projects/41f00743cd354150957bbdf058167c31/experiments/81884eb4c17948b9a8b435efe708c71d/output/log\n"
     ]
    }
   ],
   "source": [
    "from clearml import Task, Dataset\n",
    "\n",
    "task = Task.init(project_name=\"titanic_demo/FeatureStore\", task_name=\"feature_set_1\")\n"
   ]
  },
  {
   "cell_type": "markdown",
   "metadata": {},
   "source": [
    "## Now let's get the dataset from our datastore\n",
    "refer to S02E04 to see how we downloaded it from kaggle and put it there. AKA clearml-data rul3z!!1"
   ]
  },
  {
   "cell_type": "code",
   "execution_count": 3,
   "metadata": {},
   "outputs": [],
   "source": [
    "tdata = Dataset.get(dataset_project=\"titanic_demo/dataset\", dataset_name=\"titanic\")\n",
    "tdata_folder = tdata.get_local_copy()\n"
   ]
  },
  {
   "cell_type": "markdown",
   "metadata": {},
   "source": [
    "### The dataset has been downloaded to the local machine and can now be loaded.\n",
    "#### Don't forget to uses pandas to read the csv ;) "
   ]
  },
  {
   "cell_type": "markdown",
   "metadata": {},
   "source": [
    "# Real stuff starts here \n",
    "now we want to make some cleaning and feature engineering [as suggested by](https://www.kaggle.com/ldfreeman3/a-data-science-framework-to-achieve-99-accuracy) the top \n",
    "    [kaggle kernels](https://www.kaggle.com/startupsci/titanic-data-science-solutions)\n",
    " for this data\n",
    "\n",
    "## The follwing defs are meant to look like you copy-pasted it from someone else :) \n"
   ]
  },
  {
   "cell_type": "code",
   "execution_count": 4,
   "metadata": {},
   "outputs": [],
   "source": [
    "def extract_title(in_name_series: pd.Series) -> pd.Series:\n",
    "    return in_name_series.str.extract(' ([A-Za-z]+)\\.', expand=False)\n",
    "\n",
    "def make_fixed_title_series(\n",
    "    in_title_series: pd.Series, override_rare_list: Optional[list] = None\n",
    ") -> pd.Series:\n",
    "    rare_list = (\n",
    "        [\n",
    "            \"Lady\",\n",
    "            \"Countess\",\n",
    "            \"Capt\",\n",
    "            \"Col\",\n",
    "            \"Don\",\n",
    "            \"Dr\",\n",
    "            \"Major\",\n",
    "            \"Rev\",\n",
    "            \"Sir\",\n",
    "            \"Jonkheer\",\n",
    "            \"Dona\",\n",
    "        ]\n",
    "        if override_rare_list is None\n",
    "        else override_rare_list\n",
    "    )\n",
    "    fixed_title_series = in_title_series.replace(rare_list, \"Rare\")\n",
    "    fixed_title_series = fixed_title_series.replace([\"Mlle\",\"Ms\"], \"Miss\")\n",
    "    fixed_title_series = fixed_title_series.replace(\"Mme\", \"Mrs\")\n",
    "    return fixed_title_series\n",
    "\n",
    "def map_title(title_series: pd.Series, mapping: dict) -> pd.Series:\n",
    "   rev_mapping = {v:k for k,v in mapping.items()} \n",
    "   mapped = title_series.map(rev_mapping)\n",
    "   # shouldn't happen\n",
    "   mapped = mapped.fillna(0)\n",
    "   return mapped"
   ]
  },
  {
   "cell_type": "markdown",
   "metadata": {},
   "source": [
    "# Create a categorical column for the passenger titles and document your work"
   ]
  },
  {
   "cell_type": "code",
   "execution_count": 5,
   "metadata": {},
   "outputs": [
    {
     "data": {
      "text/html": "<div>\n<style scoped>\n    .dataframe tbody tr th:only-of-type {\n        vertical-align: middle;\n    }\n\n    .dataframe tbody tr th {\n        vertical-align: top;\n    }\n\n    .dataframe thead th {\n        text-align: right;\n    }\n</style>\n<table border=\"1\" class=\"dataframe\">\n  <thead>\n    <tr style=\"text-align: right;\">\n      <th></th>\n      <th>PassengerId</th>\n      <th>Survived</th>\n      <th>Pclass</th>\n      <th>Name</th>\n      <th>Sex</th>\n      <th>Age</th>\n      <th>SibSp</th>\n      <th>Parch</th>\n      <th>Ticket</th>\n      <th>Fare</th>\n      <th>Cabin</th>\n      <th>Embarked</th>\n    </tr>\n  </thead>\n  <tbody>\n    <tr>\n      <th>0</th>\n      <td>1</td>\n      <td>0</td>\n      <td>3</td>\n      <td>Braund, Mr. Owen Harris</td>\n      <td>male</td>\n      <td>22.0</td>\n      <td>1</td>\n      <td>0</td>\n      <td>A/5 21171</td>\n      <td>7.2500</td>\n      <td>NaN</td>\n      <td>S</td>\n    </tr>\n    <tr>\n      <th>1</th>\n      <td>2</td>\n      <td>1</td>\n      <td>1</td>\n      <td>Cumings, Mrs. John Bradley (Florence Briggs Th...</td>\n      <td>female</td>\n      <td>38.0</td>\n      <td>1</td>\n      <td>0</td>\n      <td>PC 17599</td>\n      <td>71.2833</td>\n      <td>C85</td>\n      <td>C</td>\n    </tr>\n    <tr>\n      <th>2</th>\n      <td>3</td>\n      <td>1</td>\n      <td>3</td>\n      <td>Heikkinen, Miss. Laina</td>\n      <td>female</td>\n      <td>26.0</td>\n      <td>0</td>\n      <td>0</td>\n      <td>STON/O2. 3101282</td>\n      <td>7.9250</td>\n      <td>NaN</td>\n      <td>S</td>\n    </tr>\n    <tr>\n      <th>3</th>\n      <td>4</td>\n      <td>1</td>\n      <td>1</td>\n      <td>Futrelle, Mrs. Jacques Heath (Lily May Peel)</td>\n      <td>female</td>\n      <td>35.0</td>\n      <td>1</td>\n      <td>0</td>\n      <td>113803</td>\n      <td>53.1000</td>\n      <td>C123</td>\n      <td>S</td>\n    </tr>\n    <tr>\n      <th>4</th>\n      <td>5</td>\n      <td>0</td>\n      <td>3</td>\n      <td>Allen, Mr. William Henry</td>\n      <td>male</td>\n      <td>35.0</td>\n      <td>0</td>\n      <td>0</td>\n      <td>373450</td>\n      <td>8.0500</td>\n      <td>NaN</td>\n      <td>S</td>\n    </tr>\n  </tbody>\n</table>\n</div>",
      "text/plain": "   PassengerId  Survived  Pclass  \\\n0            1         0       3   \n1            2         1       1   \n2            3         1       3   \n3            4         1       1   \n4            5         0       3   \n\n                                                Name     Sex   Age  SibSp  \\\n0                            Braund, Mr. Owen Harris    male  22.0      1   \n1  Cumings, Mrs. John Bradley (Florence Briggs Th...  female  38.0      1   \n2                             Heikkinen, Miss. Laina  female  26.0      0   \n3       Futrelle, Mrs. Jacques Heath (Lily May Peel)  female  35.0      1   \n4                           Allen, Mr. William Henry    male  35.0      0   \n\n   Parch            Ticket     Fare Cabin Embarked  \n0      0         A/5 21171   7.2500   NaN        S  \n1      0          PC 17599  71.2833   C85        C  \n2      0  STON/O2. 3101282   7.9250   NaN        S  \n3      0            113803  53.1000  C123        S  \n4      0            373450   8.0500   NaN        S  "
     },
     "execution_count": 5,
     "metadata": {},
     "output_type": "execute_result"
    }
   ],
   "source": [
    "train_df = pd.read_csv(tdata_folder+'/train.csv')\n",
    "train_df.head()"
   ]
  },
  {
   "cell_type": "code",
   "execution_count": 6,
   "metadata": {},
   "outputs": [],
   "source": [
    "num_to_title = {1: \"Mr\", 2: \"Miss\", 3: \"Mrs\", 4: \"Master\", 5: \"Rare\"}\n",
    "Use_actual_cat = False\n",
    "\n",
    "def create_categorical_title(\n",
    "    name_series: pd.Series, num_to_title_mapping: dict\n",
    ") -> pd.Series:\n",
    "    title = extract_title(name_series)\n",
    "    fixed_title = make_fixed_title_series(title)\n",
    "    cat_title = map_title(fixed_title, num_to_title_mapping)\n",
    "    if Use_actual_cat:\n",
    "        cat_title = cat_title.astype(\"category\")\n",
    "    return cat_title\n",
    "\n",
    "train_df[\"Title\"] = create_categorical_title(train_df[\"Name\"], num_to_title)\n",
    "\n",
    "\n"
   ]
  },
  {
   "cell_type": "markdown",
   "metadata": {},
   "source": [
    "## Make sure you log some of your process in the task itself:"
   ]
  },
  {
   "cell_type": "code",
   "execution_count": 7,
   "metadata": {},
   "outputs": [],
   "source": [
    "# expose the mapping so that it can be viewed and grabbed later on\n",
    "task.upload_artifact(\"key_category_to_title\", num_to_title)\n",
    "# \n",
    "sanity_check = train_df[[\"Title\", \"Survived\"]].groupby([\"Title\"], as_index=False).mean()\n",
    "sanity_check = sanity_check.set_index('Title', drop=True)\n",
    "task.logger.report_table('survival','categorical',table_plot=sanity_check)"
   ]
  },
  {
   "cell_type": "markdown",
   "metadata": {},
   "source": [
    "# Now let's create a binary diff over the original dataset which contains the new feature\n",
    "# step 1 - create the feature set\n"
   ]
  },
  {
   "cell_type": "code",
   "execution_count": 8,
   "metadata": {},
   "outputs": [],
   "source": [
    "with_feature = Dataset.create('titanic_with_category_title',\n",
    "                              dataset_project='titanic_example/FeatureStore',\n",
    "                              parent_datasets=[tdata.id],\n",
    "                              use_current_task=True)   # This boolean is the main point actually!!!"
   ]
  },
  {
   "cell_type": "code",
   "execution_count": 9,
   "metadata": {},
   "outputs": [
    {
     "name": "stdout",
     "output_type": "stream",
     "text": [
      "new_folder is:/tmp/tmpyf0yv7q9\n",
      "Generating SHA2 hash for 2 files\n",
      "Hash generation completed\n",
      "Uploading compressed dataset changes (1 files, total 22.67 KB) to https://files.community.clear.ml\n",
      "Upload completed (22.67 KB)\n"
     ]
    },
    {
     "data": {
      "text/plain": "True"
     },
     "execution_count": 9,
     "metadata": {},
     "output_type": "execute_result"
    }
   ],
   "source": [
    "from tempfile import mkdtemp\n",
    "new_folder = with_feature.get_mutable_local_copy(mkdtemp())\n",
    "# overwrite with new train df (with the added feature)\n",
    "train_df.to_csv(new_folder+'/train.csv', index=False)\n",
    "with_feature.sync_folder(new_folder)\n",
    "with_feature.upload()\n",
    "with_feature.finalize()\n",
    "\n"
   ]
  },
  {
   "cell_type": "markdown",
   "metadata": {},
   "source": [
    "# Wait, is that it?!\n"
   ]
  },
  {
   "cell_type": "code",
   "execution_count": null,
   "metadata": {},
   "outputs": [],
   "source": []
  }
 ],
 "metadata": {
  "interpreter": {
   "hash": "27508f9b69a4781b270ad2262a1a927b62467314df2db6abfede01f90ea6a5c5"
  },
  "kernelspec": {
   "display_name": "Python 3.8.5 64-bit ('venv_demos': venv)",
   "name": "python3"
  },
  "language_info": {
   "codemirror_mode": {
    "name": "ipython",
    "version": 3
   },
   "file_extension": ".py",
   "mimetype": "text/x-python",
   "name": "python",
   "nbconvert_exporter": "python",
   "pygments_lexer": "ipython3",
   "version": "3.8.5"
  },
  "orig_nbformat": 2
 },
 "nbformat": 4,
 "nbformat_minor": 2
}