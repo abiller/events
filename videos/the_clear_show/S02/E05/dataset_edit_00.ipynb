{
 "cells": [
  {
   "cell_type": "markdown",
   "metadata": {},
   "source": [
    "# DataOps with ClearML Pt.I \n",
    "## (ClearSHOW S02E05)\n",
    "Simple feature engineering with ClearML as a data store. \n"
   ]
  },
  {
   "cell_type": "code",
   "execution_count": null,
   "metadata": {},
   "outputs": [],
   "source": [
    "# normal imports\n",
    "from typing import Optional\n",
    "import pandas as pd"
   ]
  },
  {
   "cell_type": "markdown",
   "metadata": {},
   "source": [
    "## First things first, init a task on the project.\n",
    "#### That's our famous original 2-LOC integration, now with subprojects :)"
   ]
  },
  {
   "cell_type": "code",
   "execution_count": null,
   "metadata": {},
   "outputs": [],
   "source": [
    "from clearml import Task, Dataset\n",
    "\n",
    "task = Task.init(project_name=\"titanic_demo/FeatureStore\", task_name=\"feature_set_2\")\n"
   ]
  },
  {
   "cell_type": "markdown",
   "metadata": {},
   "source": [
    "## Now let's get the dataset from our datastore\n",
    "refer to S02E04 to see how we downloaded it from kaggle and put it there. AKA clearml-data rul3z!!1"
   ]
  },
  {
   "cell_type": "code",
   "execution_count": null,
   "metadata": {},
   "outputs": [],
   "source": [
    "tdata = Dataset.get(dataset_project=\"titanic_demo/dataset\")\n",
    "tdata_folder = tdata.get_local_copy()\n"
   ]
  },
  {
   "cell_type": "markdown",
   "metadata": {},
   "source": [
    "### The dataset has been downloaded to the local machine and can now be loaded.\n",
    "#### Don't forget to uses pandas to read the csv ;) "
   ]
  },
  {
   "cell_type": "markdown",
   "metadata": {},
   "source": [
    "# Real stuff starts here \n",
    "now we want to make some cleaning and feature engineering [as suggested by](https://www.kaggle.com/ldfreeman3/a-data-science-framework-to-achieve-99-accuracy) the top \n",
    "    [kaggle kernels](https://www.kaggle.com/startupsci/titanic-data-science-solutions)\n",
    " for this data\n",
    "\n",
    "## The follwing defs are meant to look like you copy-pasted it from someone else :) \n"
   ]
  },
  {
   "cell_type": "code",
   "execution_count": null,
   "metadata": {},
   "outputs": [],
   "source": [
    "def extract_title(in_name_series: pd.Series) -> pd.Series:\n",
    "    return in_name_series.str.extract(' ([A-Za-z]+)\\.', expand=False)\n",
    "\n",
    "def make_fixed_title_series(\n",
    "    in_title_series: pd.Series, override_rare_list: Optional[list] = None\n",
    ") -> pd.Series:\n",
    "    rare_list = (\n",
    "        [\n",
    "            \"Lady\",\n",
    "            \"Countess\",\n",
    "            \"Capt\",\n",
    "            \"Col\",\n",
    "            \"Don\",\n",
    "            \"Dr\",\n",
    "            \"Major\",\n",
    "            \"Rev\",\n",
    "            \"Sir\",\n",
    "            \"Jonkheer\",\n",
    "            \"Dona\",\n",
    "        ]\n",
    "        if override_rare_list is None\n",
    "        else override_rare_list\n",
    "    )\n",
    "    fixed_title_series = in_title_series.replace(rare_list, \"Rare\")\n",
    "    fixed_title_series = fixed_title_series.replace([\"Mlle\",\"Ms\"], \"Miss\")\n",
    "    fixed_title_series = fixed_title_series.replace(\"Mme\", \"Mrs\")\n",
    "    return fixed_title_series\n",
    "\n",
    "def map_title(title_series: pd.Series, mapping: dict) -> pd.Series:\n",
    "   rev_mapping = {v:k for k,v in mapping.items()} \n",
    "   mapped = title_series.map(rev_mapping)\n",
    "   # shouldn't happen\n",
    "   mapped = mapped.fillna(0)\n",
    "   return mapped"
   ]
  },
  {
   "cell_type": "markdown",
   "metadata": {},
   "source": [
    "# Create a categorical column for the passenger titles and document your work"
   ]
  },
  {
   "cell_type": "code",
   "execution_count": null,
   "metadata": {},
   "outputs": [],
   "source": [
    "train_df = pd.read_csv(tdata_folder+'/train.csv')\n",
    "train_df.head()"
   ]
  },
  {
   "cell_type": "code",
   "execution_count": null,
   "metadata": {},
   "outputs": [],
   "source": [
    "num_to_title = {1: \"Mr\", 2: \"Miss\", 3: \"Mrs\", 4: \"Master\", 5: \"Rare\"}\n",
    "Use_actual_cat = False\n",
    "\n",
    "def create_categorical_title(\n",
    "    name_series: pd.Series, num_to_title_mapping: dict\n",
    ") -> pd.Series:\n",
    "    title = extract_title(name_series)\n",
    "    fixed_title = make_fixed_title_series(title)\n",
    "    cat_title = map_title(fixed_title, num_to_title_mapping)\n",
    "    if Use_actual_cat:\n",
    "        cat_title = cat_title.astype(\"category\")\n",
    "    return cat_title\n",
    "\n",
    "train_df[\"Title\"] = create_categorical_title(train_df[\"Name\"], num_to_title)\n",
    "\n",
    "\n"
   ]
  },
  {
   "cell_type": "markdown",
   "metadata": {},
   "source": [
    "## Make sure you log some of your process in the task itself:"
   ]
  },
  {
   "cell_type": "code",
   "execution_count": null,
   "metadata": {},
   "outputs": [],
   "source": [
    "# expose the mapping so that it can be viewed and grabbed later on\n",
    "task.upload_artifact(\"key_category_to_title\", num_to_title)\n",
    "# \n",
    "sanity_check = train_df[[\"Title\", \"Survived\"]].groupby([\"Title\"], as_index=False).mean()\n",
    "sanity_check = sanity_check.set_index('Title', drop=True)\n",
    "task.logger.report_table('survival','categorical',table_plot=sanity_check)"
   ]
  },
  {
   "cell_type": "markdown",
   "metadata": {},
   "source": [
    "# Now let's create a binary diff over the original dataset which contains the new feature\n",
    "# step 1 - create the feature set\n"
   ]
  },
  {
   "cell_type": "code",
   "execution_count": null,
   "metadata": {},
   "outputs": [],
   "source": [
    "with_feature = Dataset.create('name does not matter - the task is the feature',\n",
    "                              dataset_project='titanic_example/FeatureStore',\n",
    "                              parent_datasets=[tdata.id],\n",
    "                              use_current_task=True)   # This boolean is the main point actually!!!"
   ]
  },
  {
   "cell_type": "code",
   "execution_count": null,
   "metadata": {},
   "outputs": [],
   "source": [
    "from tempfile import mkdtemp\n",
    "new_folder = with_feature.get_mutable_local_copy(mkdtemp())\n",
    "print(f'new_folder is:{new_folder}')\n",
    "# overwrite with new train df (with the added)\n",
    "train_df.to_csv(new_folder+'/train.csv', index=False)\n",
    "with_feature.sync_folder(new_folder)\n",
    "with_feature.upload()\n",
    "with_feature.finalize()\n",
    "\n"
   ]
  },
  {
   "cell_type": "markdown",
   "metadata": {},
   "source": [
    "# Wait, is that it?!\n"
   ]
  },
  {
   "cell_type": "code",
   "execution_count": null,
   "metadata": {},
   "outputs": [],
   "source": []
  }
 ],
 "metadata": {
  "interpreter": {
   "hash": "27508f9b69a4781b270ad2262a1a927b62467314df2db6abfede01f90ea6a5c5"
  },
  "kernelspec": {
   "display_name": "Python 3.8.5 64-bit ('venv_demos': venv)",
   "name": "python3"
  },
  "language_info": {
   "name": "python",
   "version": ""
  },
  "orig_nbformat": 2
 },
 "nbformat": 4,
 "nbformat_minor": 2
}